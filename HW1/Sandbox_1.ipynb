{
 "cells": [
  {
   "cell_type": "code",
   "execution_count": 37,
   "metadata": {},
   "outputs": [],
   "source": [
    "import requests\n",
    "import json\n",
    "from pprint import pprint\n",
    "import sys\n",
    "import http.client\n",
    "import urllib # I have added as it is a standard library_AY.\n",
    "import gexf"
   ]
  },
  {
   "cell_type": "code",
   "execution_count": null,
   "metadata": {},
   "outputs": [],
   "source": []
  },
  {
   "cell_type": "code",
   "execution_count": 38,
   "metadata": {},
   "outputs": [],
   "source": [
    "# value_key='50ea93987447c4d7483b02d78f98f2ce'\n",
    "# Response_API=requests.get('https://rebrickable.com/api/v3/lego/sets/?min_parts=270&max_parts=300',{'key':value_key})"
   ]
  },
  {
   "cell_type": "code",
   "execution_count": 39,
   "metadata": {},
   "outputs": [],
   "source": [
    "# #Adding the key to the url and then try to open it.\n",
    "# url='https://rebrickable.com/api/v3/lego/colors/?key=50ea93987447c4d7483b02d78f98f2ce'\n",
    "# data=urllib.request.urlopen(url)\n",
    "# Response=data.read()\n",
    "# # json.load(Response)\n",
    "# encoding=data.info().get_content_charset('utf-8')\n",
    "# json.loads(Response.decode(encoding))"
   ]
  },
  {
   "cell_type": "code",
   "execution_count": 41,
   "metadata": {},
   "outputs": [],
   "source": [
    "#??\n",
    "#Adding the key to the url and then try to open it.\n",
    "#I can not run it after I changed the condition to the API\n",
    "# url='https://rebrickable.com/api/v3/lego/sets/?min_parts=270&max_parts=300/?key=50ea93987447c4d7483b02d78f98f2ce'\n",
    "url='https://rebrickable.com/api/v3/lego/sets/?key=50ea93987447c4d7483b02d78f98f2ce'\n",
    "data=urllib.request.urlopen(url)\n",
    "Response=data.read()\n",
    "# json.load(Response)\n",
    "encoding=data.info().get_content_charset('utf-8')\n",
    "Raw_Data=json.loads(Response.decode(encoding))"
   ]
  },
  {
   "cell_type": "code",
   "execution_count": 45,
   "metadata": {},
   "outputs": [],
   "source": [
    "Set_Numbers=[each['set_num'] for each in Raw_Data['results']]\n",
    "Lookup_Dictionary={}\n",
    "for each in Set_Numbers:\n",
    "    Lookup_Dictionary[each]=('https://rebrickable.com/api/v3/lego/sets/'+each+'/parts/')\n",
    "\n",
    "                             \n",
    "                             "
   ]
  },
  {
   "cell_type": "code",
   "execution_count": 46,
   "metadata": {},
   "outputs": [
    {
     "data": {
      "text/plain": [
       "{'001-1': 'https://rebrickable.com/api/v3/lego/sets/001-1/parts/',\n",
       " '0011-2': 'https://rebrickable.com/api/v3/lego/sets/0011-2/parts/',\n",
       " '0011-3': 'https://rebrickable.com/api/v3/lego/sets/0011-3/parts/',\n",
       " '0012-1': 'https://rebrickable.com/api/v3/lego/sets/0012-1/parts/',\n",
       " '0013-1': 'https://rebrickable.com/api/v3/lego/sets/0013-1/parts/',\n",
       " '0014-1': 'https://rebrickable.com/api/v3/lego/sets/0014-1/parts/',\n",
       " '0015-1': 'https://rebrickable.com/api/v3/lego/sets/0015-1/parts/',\n",
       " '0016-1': 'https://rebrickable.com/api/v3/lego/sets/0016-1/parts/',\n",
       " '002-1': 'https://rebrickable.com/api/v3/lego/sets/002-1/parts/',\n",
       " '003-1': 'https://rebrickable.com/api/v3/lego/sets/003-1/parts/',\n",
       " '005-1': 'https://rebrickable.com/api/v3/lego/sets/005-1/parts/',\n",
       " '005-2': 'https://rebrickable.com/api/v3/lego/sets/005-2/parts/',\n",
       " '00-6': 'https://rebrickable.com/api/v3/lego/sets/00-6/parts/',\n",
       " '010-1': 'https://rebrickable.com/api/v3/lego/sets/010-1/parts/',\n",
       " '010-3': 'https://rebrickable.com/api/v3/lego/sets/010-3/parts/',\n",
       " '011-1': 'https://rebrickable.com/api/v3/lego/sets/011-1/parts/',\n",
       " '021-1': 'https://rebrickable.com/api/v3/lego/sets/021-1/parts/',\n",
       " '022-1': 'https://rebrickable.com/api/v3/lego/sets/022-1/parts/',\n",
       " '0241199312-1': 'https://rebrickable.com/api/v3/lego/sets/0241199312-1/parts/',\n",
       " '0241357527-1': 'https://rebrickable.com/api/v3/lego/sets/0241357527-1/parts/',\n",
       " '0241357594-1': 'https://rebrickable.com/api/v3/lego/sets/0241357594-1/parts/',\n",
       " '0241363500-1': 'https://rebrickable.com/api/v3/lego/sets/0241363500-1/parts/',\n",
       " '024136373X-1': 'https://rebrickable.com/api/v3/lego/sets/024136373X-1/parts/',\n",
       " '028-1': 'https://rebrickable.com/api/v3/lego/sets/028-1/parts/',\n",
       " '030-2': 'https://rebrickable.com/api/v3/lego/sets/030-2/parts/',\n",
       " '03093-1': 'https://rebrickable.com/api/v3/lego/sets/03093-1/parts/',\n",
       " '032-1': 'https://rebrickable.com/api/v3/lego/sets/032-1/parts/',\n",
       " '033-1': 'https://rebrickable.com/api/v3/lego/sets/033-1/parts/',\n",
       " '033-2': 'https://rebrickable.com/api/v3/lego/sets/033-2/parts/',\n",
       " '041-1': 'https://rebrickable.com/api/v3/lego/sets/041-1/parts/',\n",
       " '041-2': 'https://rebrickable.com/api/v3/lego/sets/041-2/parts/',\n",
       " '042-1': 'https://rebrickable.com/api/v3/lego/sets/042-1/parts/',\n",
       " '044-1': 'https://rebrickable.com/api/v3/lego/sets/044-1/parts/',\n",
       " '044-2': 'https://rebrickable.com/api/v3/lego/sets/044-2/parts/',\n",
       " '045-1': 'https://rebrickable.com/api/v3/lego/sets/045-1/parts/',\n",
       " '050-2': 'https://rebrickable.com/api/v3/lego/sets/050-2/parts/',\n",
       " '051-1': 'https://rebrickable.com/api/v3/lego/sets/051-1/parts/',\n",
       " '052-1': 'https://rebrickable.com/api/v3/lego/sets/052-1/parts/',\n",
       " '053-1': 'https://rebrickable.com/api/v3/lego/sets/053-1/parts/',\n",
       " '054-1': 'https://rebrickable.com/api/v3/lego/sets/054-1/parts/',\n",
       " '055-1': 'https://rebrickable.com/api/v3/lego/sets/055-1/parts/',\n",
       " '055-2': 'https://rebrickable.com/api/v3/lego/sets/055-2/parts/',\n",
       " '057-1': 'https://rebrickable.com/api/v3/lego/sets/057-1/parts/',\n",
       " '058-1': 'https://rebrickable.com/api/v3/lego/sets/058-1/parts/',\n",
       " '060-1': 'https://rebrickable.com/api/v3/lego/sets/060-1/parts/',\n",
       " '060-3': 'https://rebrickable.com/api/v3/lego/sets/060-3/parts/',\n",
       " '061-1': 'https://rebrickable.com/api/v3/lego/sets/061-1/parts/',\n",
       " '062-1': 'https://rebrickable.com/api/v3/lego/sets/062-1/parts/',\n",
       " '063-1': 'https://rebrickable.com/api/v3/lego/sets/063-1/parts/',\n",
       " '063-2': 'https://rebrickable.com/api/v3/lego/sets/063-2/parts/',\n",
       " '065-1': 'https://rebrickable.com/api/v3/lego/sets/065-1/parts/',\n",
       " '066-1': 'https://rebrickable.com/api/v3/lego/sets/066-1/parts/',\n",
       " '071-1': 'https://rebrickable.com/api/v3/lego/sets/071-1/parts/',\n",
       " '074-1': 'https://rebrickable.com/api/v3/lego/sets/074-1/parts/',\n",
       " '075-1': 'https://rebrickable.com/api/v3/lego/sets/075-1/parts/',\n",
       " '0756668530-1': 'https://rebrickable.com/api/v3/lego/sets/0756668530-1/parts/',\n",
       " '0756672805-1': 'https://rebrickable.com/api/v3/lego/sets/0756672805-1/parts/',\n",
       " '0756672813-1': 'https://rebrickable.com/api/v3/lego/sets/0756672813-1/parts/',\n",
       " '0756682762-1': 'https://rebrickable.com/api/v3/lego/sets/0756682762-1/parts/',\n",
       " '0756692571-1': 'https://rebrickable.com/api/v3/lego/sets/0756692571-1/parts/',\n",
       " '0756698126-1': 'https://rebrickable.com/api/v3/lego/sets/0756698126-1/parts/',\n",
       " '077-1': 'https://rebrickable.com/api/v3/lego/sets/077-1/parts/',\n",
       " '078-1': 'https://rebrickable.com/api/v3/lego/sets/078-1/parts/',\n",
       " '080-1': 'https://rebrickable.com/api/v3/lego/sets/080-1/parts/',\n",
       " '080-2': 'https://rebrickable.com/api/v3/lego/sets/080-2/parts/',\n",
       " '080-3': 'https://rebrickable.com/api/v3/lego/sets/080-3/parts/',\n",
       " '086-1': 'https://rebrickable.com/api/v3/lego/sets/086-1/parts/',\n",
       " '088-1': 'https://rebrickable.com/api/v3/lego/sets/088-1/parts/',\n",
       " '10000-1': 'https://rebrickable.com/api/v3/lego/sets/10000-1/parts/',\n",
       " '1000-1': 'https://rebrickable.com/api/v3/lego/sets/1000-1/parts/',\n",
       " '10001-1': 'https://rebrickable.com/api/v3/lego/sets/10001-1/parts/',\n",
       " '10002-1': 'https://rebrickable.com/api/v3/lego/sets/10002-1/parts/',\n",
       " '10003-1': 'https://rebrickable.com/api/v3/lego/sets/10003-1/parts/',\n",
       " '10004-1': 'https://rebrickable.com/api/v3/lego/sets/10004-1/parts/',\n",
       " '10005-1': 'https://rebrickable.com/api/v3/lego/sets/10005-1/parts/',\n",
       " '10006-1': 'https://rebrickable.com/api/v3/lego/sets/10006-1/parts/',\n",
       " '10007-1': 'https://rebrickable.com/api/v3/lego/sets/10007-1/parts/',\n",
       " '10008-1': 'https://rebrickable.com/api/v3/lego/sets/10008-1/parts/',\n",
       " '10009-1': 'https://rebrickable.com/api/v3/lego/sets/10009-1/parts/',\n",
       " '100-1': 'https://rebrickable.com/api/v3/lego/sets/100-1/parts/',\n",
       " '10010-1': 'https://rebrickable.com/api/v3/lego/sets/10010-1/parts/',\n",
       " '10011-1': 'https://rebrickable.com/api/v3/lego/sets/10011-1/parts/',\n",
       " '10012-1': 'https://rebrickable.com/api/v3/lego/sets/10012-1/parts/',\n",
       " '10013-1': 'https://rebrickable.com/api/v3/lego/sets/10013-1/parts/',\n",
       " '10014-1': 'https://rebrickable.com/api/v3/lego/sets/10014-1/parts/',\n",
       " '10015-1': 'https://rebrickable.com/api/v3/lego/sets/10015-1/parts/',\n",
       " '10016-1': 'https://rebrickable.com/api/v3/lego/sets/10016-1/parts/',\n",
       " '10017-1': 'https://rebrickable.com/api/v3/lego/sets/10017-1/parts/',\n",
       " '10018-1': 'https://rebrickable.com/api/v3/lego/sets/10018-1/parts/',\n",
       " '10019-1': 'https://rebrickable.com/api/v3/lego/sets/10019-1/parts/',\n",
       " '100-2': 'https://rebrickable.com/api/v3/lego/sets/100-2/parts/',\n",
       " '10020-1': 'https://rebrickable.com/api/v3/lego/sets/10020-1/parts/',\n",
       " '10020-2': 'https://rebrickable.com/api/v3/lego/sets/10020-2/parts/',\n",
       " '10021-1': 'https://rebrickable.com/api/v3/lego/sets/10021-1/parts/',\n",
       " '10022-1': 'https://rebrickable.com/api/v3/lego/sets/10022-1/parts/',\n",
       " '10023-1': 'https://rebrickable.com/api/v3/lego/sets/10023-1/parts/',\n",
       " '10024-1': 'https://rebrickable.com/api/v3/lego/sets/10024-1/parts/',\n",
       " '10025-1': 'https://rebrickable.com/api/v3/lego/sets/10025-1/parts/',\n",
       " '10026-1': 'https://rebrickable.com/api/v3/lego/sets/10026-1/parts/',\n",
       " '10027-1': 'https://rebrickable.com/api/v3/lego/sets/10027-1/parts/'}"
      ]
     },
     "execution_count": 46,
     "metadata": {},
     "output_type": "execute_result"
    }
   ],
   "source": [
    "Lookup_Dictionary"
   ]
  },
  {
   "cell_type": "code",
   "execution_count": null,
   "metadata": {},
   "outputs": [],
   "source": [
    "# https://rebrickable.com/api/v3/lego/sets/0011-2/parts/"
   ]
  },
  {
   "cell_type": "code",
   "execution_count": 25,
   "metadata": {},
   "outputs": [
    {
     "data": {
      "text/plain": [
       "'0011-2'"
      ]
     },
     "execution_count": 25,
     "metadata": {},
     "output_type": "execute_result"
    }
   ],
   "source": [
    "# /lego/parts/?part_nums=3001,3002,3003&inc_part_details=1"
   ]
  },
  {
   "cell_type": "code",
   "execution_count": null,
   "metadata": {},
   "outputs": [],
   "source": [
    "%%time\n",
    "for each in range(len(Set_Num)):\n",
    "    Temp=API_URL_Template.split('/')\n",
    "    Temp[7]=Set_Num[each]\n",
    "    API_URL='/'.join(Temp)\n",
    "    API_Response=requests.get(API_URL,{'key':value_key})\n",
    "    API_Data.update([(Set_Num[each],API_Response.json())])"
   ]
  },
  {
   "cell_type": "code",
   "execution_count": null,
   "metadata": {},
   "outputs": [],
   "source": []
  },
  {
   "cell_type": "code",
   "execution_count": null,
   "metadata": {},
   "outputs": [],
   "source": []
  },
  {
   "cell_type": "code",
   "execution_count": null,
   "metadata": {},
   "outputs": [],
   "source": []
  }
 ],
 "metadata": {
  "kernelspec": {
   "display_name": "Python 3",
   "language": "python",
   "name": "python3"
  },
  "language_info": {
   "codemirror_mode": {
    "name": "ipython",
    "version": 3
   },
   "file_extension": ".py",
   "mimetype": "text/x-python",
   "name": "python",
   "nbconvert_exporter": "python",
   "pygments_lexer": "ipython3",
   "version": "3.7.3"
  }
 },
 "nbformat": 4,
 "nbformat_minor": 2
}
